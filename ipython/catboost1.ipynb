{
 "cells": [
  {
   "cell_type": "markdown",
   "metadata": {},
   "source": [
    "# TalkingData Fraud Click Prediction"
   ]
  },
  {
   "cell_type": "code",
   "execution_count": 1,
   "metadata": {},
   "outputs": [],
   "source": [
    "%matplotlib inline\n",
    "import matplotlib.pyplot as plt\n",
    "import pandas as pd\n",
    "import numpy as np\n",
    "\n",
    "from sklearn.metrics import roc_curve,roc_auc_score\n",
    "from sklearn.model_selection import train_test_split\n",
    "from catboost import Pool, CatBoostClassifier, CatBoost\n",
    "from tqdm import tqdm"
   ]
  },
  {
   "cell_type": "markdown",
   "metadata": {},
   "source": [
    "## Load Train & Test data"
   ]
  },
  {
   "cell_type": "markdown",
   "metadata": {},
   "source": [
    "### Check data format"
   ]
  },
  {
   "cell_type": "code",
   "execution_count": 3,
   "metadata": {},
   "outputs": [
    {
     "data": {
      "text/html": [
       "<div>\n",
       "<style scoped>\n",
       "    .dataframe tbody tr th:only-of-type {\n",
       "        vertical-align: middle;\n",
       "    }\n",
       "\n",
       "    .dataframe tbody tr th {\n",
       "        vertical-align: top;\n",
       "    }\n",
       "\n",
       "    .dataframe thead th {\n",
       "        text-align: right;\n",
       "    }\n",
       "</style>\n",
       "<table border=\"1\" class=\"dataframe\">\n",
       "  <thead>\n",
       "    <tr style=\"text-align: right;\">\n",
       "      <th></th>\n",
       "      <th>ip</th>\n",
       "      <th>app</th>\n",
       "      <th>device</th>\n",
       "      <th>os</th>\n",
       "      <th>channel</th>\n",
       "      <th>click_time</th>\n",
       "      <th>attributed_time</th>\n",
       "      <th>is_attributed</th>\n",
       "    </tr>\n",
       "  </thead>\n",
       "  <tbody>\n",
       "    <tr>\n",
       "      <th>0</th>\n",
       "      <td>83230</td>\n",
       "      <td>3</td>\n",
       "      <td>1</td>\n",
       "      <td>13</td>\n",
       "      <td>379</td>\n",
       "      <td>2017-11-06 14:32:21</td>\n",
       "      <td>NaN</td>\n",
       "      <td>0</td>\n",
       "    </tr>\n",
       "    <tr>\n",
       "      <th>1</th>\n",
       "      <td>17357</td>\n",
       "      <td>3</td>\n",
       "      <td>1</td>\n",
       "      <td>19</td>\n",
       "      <td>379</td>\n",
       "      <td>2017-11-06 14:33:34</td>\n",
       "      <td>NaN</td>\n",
       "      <td>0</td>\n",
       "    </tr>\n",
       "    <tr>\n",
       "      <th>2</th>\n",
       "      <td>35810</td>\n",
       "      <td>3</td>\n",
       "      <td>1</td>\n",
       "      <td>13</td>\n",
       "      <td>379</td>\n",
       "      <td>2017-11-06 14:34:12</td>\n",
       "      <td>NaN</td>\n",
       "      <td>0</td>\n",
       "    </tr>\n",
       "    <tr>\n",
       "      <th>3</th>\n",
       "      <td>45745</td>\n",
       "      <td>14</td>\n",
       "      <td>1</td>\n",
       "      <td>13</td>\n",
       "      <td>478</td>\n",
       "      <td>2017-11-06 14:34:52</td>\n",
       "      <td>NaN</td>\n",
       "      <td>0</td>\n",
       "    </tr>\n",
       "    <tr>\n",
       "      <th>4</th>\n",
       "      <td>161007</td>\n",
       "      <td>3</td>\n",
       "      <td>1</td>\n",
       "      <td>13</td>\n",
       "      <td>379</td>\n",
       "      <td>2017-11-06 14:35:08</td>\n",
       "      <td>NaN</td>\n",
       "      <td>0</td>\n",
       "    </tr>\n",
       "    <tr>\n",
       "      <th>...</th>\n",
       "      <td>...</td>\n",
       "      <td>...</td>\n",
       "      <td>...</td>\n",
       "      <td>...</td>\n",
       "      <td>...</td>\n",
       "      <td>...</td>\n",
       "      <td>...</td>\n",
       "      <td>...</td>\n",
       "    </tr>\n",
       "    <tr>\n",
       "      <th>184903585</th>\n",
       "      <td>85836</td>\n",
       "      <td>9</td>\n",
       "      <td>1</td>\n",
       "      <td>32</td>\n",
       "      <td>466</td>\n",
       "      <td>2017-11-09 16:00:00</td>\n",
       "      <td>NaN</td>\n",
       "      <td>0</td>\n",
       "    </tr>\n",
       "    <tr>\n",
       "      <th>184903584</th>\n",
       "      <td>320126</td>\n",
       "      <td>8</td>\n",
       "      <td>1</td>\n",
       "      <td>13</td>\n",
       "      <td>145</td>\n",
       "      <td>2017-11-09 16:00:00</td>\n",
       "      <td>NaN</td>\n",
       "      <td>0</td>\n",
       "    </tr>\n",
       "    <tr>\n",
       "      <th>184903583</th>\n",
       "      <td>25614</td>\n",
       "      <td>2</td>\n",
       "      <td>1</td>\n",
       "      <td>19</td>\n",
       "      <td>205</td>\n",
       "      <td>2017-11-09 16:00:00</td>\n",
       "      <td>NaN</td>\n",
       "      <td>0</td>\n",
       "    </tr>\n",
       "    <tr>\n",
       "      <th>184903665</th>\n",
       "      <td>92190</td>\n",
       "      <td>9</td>\n",
       "      <td>1</td>\n",
       "      <td>23</td>\n",
       "      <td>127</td>\n",
       "      <td>2017-11-09 16:00:00</td>\n",
       "      <td>NaN</td>\n",
       "      <td>0</td>\n",
       "    </tr>\n",
       "    <tr>\n",
       "      <th>184903889</th>\n",
       "      <td>106485</td>\n",
       "      <td>11</td>\n",
       "      <td>1</td>\n",
       "      <td>19</td>\n",
       "      <td>137</td>\n",
       "      <td>2017-11-09 16:00:00</td>\n",
       "      <td>NaN</td>\n",
       "      <td>0</td>\n",
       "    </tr>\n",
       "  </tbody>\n",
       "</table>\n",
       "<p>184903890 rows × 8 columns</p>\n",
       "</div>"
      ],
      "text/plain": [
       "               ip  app  device  os  channel           click_time  \\\n",
       "0           83230    3       1  13      379  2017-11-06 14:32:21   \n",
       "1           17357    3       1  19      379  2017-11-06 14:33:34   \n",
       "2           35810    3       1  13      379  2017-11-06 14:34:12   \n",
       "3           45745   14       1  13      478  2017-11-06 14:34:52   \n",
       "4          161007    3       1  13      379  2017-11-06 14:35:08   \n",
       "...           ...  ...     ...  ..      ...                  ...   \n",
       "184903585   85836    9       1  32      466  2017-11-09 16:00:00   \n",
       "184903584  320126    8       1  13      145  2017-11-09 16:00:00   \n",
       "184903583   25614    2       1  19      205  2017-11-09 16:00:00   \n",
       "184903665   92190    9       1  23      127  2017-11-09 16:00:00   \n",
       "184903889  106485   11       1  19      137  2017-11-09 16:00:00   \n",
       "\n",
       "          attributed_time  is_attributed  \n",
       "0                     NaN              0  \n",
       "1                     NaN              0  \n",
       "2                     NaN              0  \n",
       "3                     NaN              0  \n",
       "4                     NaN              0  \n",
       "...                   ...            ...  \n",
       "184903585             NaN              0  \n",
       "184903584             NaN              0  \n",
       "184903583             NaN              0  \n",
       "184903665             NaN              0  \n",
       "184903889             NaN              0  \n",
       "\n",
       "[184903890 rows x 8 columns]"
      ]
     },
     "execution_count": 3,
     "metadata": {},
     "output_type": "execute_result"
    }
   ],
   "source": [
    "train_df = pd.read_csv('../data/train.csv').sort_values('click_time')\n",
    "train_df"
   ]
  },
  {
   "cell_type": "code",
   "execution_count": 4,
   "metadata": {},
   "outputs": [
    {
     "data": {
      "text/html": [
       "<div>\n",
       "<style scoped>\n",
       "    .dataframe tbody tr th:only-of-type {\n",
       "        vertical-align: middle;\n",
       "    }\n",
       "\n",
       "    .dataframe tbody tr th {\n",
       "        vertical-align: top;\n",
       "    }\n",
       "\n",
       "    .dataframe thead th {\n",
       "        text-align: right;\n",
       "    }\n",
       "</style>\n",
       "<table border=\"1\" class=\"dataframe\">\n",
       "  <thead>\n",
       "    <tr style=\"text-align: right;\">\n",
       "      <th></th>\n",
       "      <th>ip</th>\n",
       "      <th>app</th>\n",
       "      <th>device</th>\n",
       "      <th>os</th>\n",
       "      <th>channel</th>\n",
       "      <th>is_attributed</th>\n",
       "    </tr>\n",
       "  </thead>\n",
       "  <tbody>\n",
       "    <tr>\n",
       "      <th>count</th>\n",
       "      <td>1.849039e+08</td>\n",
       "      <td>1.849039e+08</td>\n",
       "      <td>1.849039e+08</td>\n",
       "      <td>1.849039e+08</td>\n",
       "      <td>1.849039e+08</td>\n",
       "      <td>1.849039e+08</td>\n",
       "    </tr>\n",
       "    <tr>\n",
       "      <th>mean</th>\n",
       "      <td>9.087604e+04</td>\n",
       "      <td>1.201131e+01</td>\n",
       "      <td>2.172325e+01</td>\n",
       "      <td>2.267702e+01</td>\n",
       "      <td>2.685789e+02</td>\n",
       "      <td>2.470721e-03</td>\n",
       "    </tr>\n",
       "    <tr>\n",
       "      <th>std</th>\n",
       "      <td>6.952789e+04</td>\n",
       "      <td>1.480521e+01</td>\n",
       "      <td>2.593326e+02</td>\n",
       "      <td>5.525282e+01</td>\n",
       "      <td>1.295882e+02</td>\n",
       "      <td>4.964491e-02</td>\n",
       "    </tr>\n",
       "    <tr>\n",
       "      <th>min</th>\n",
       "      <td>1.000000e+00</td>\n",
       "      <td>0.000000e+00</td>\n",
       "      <td>0.000000e+00</td>\n",
       "      <td>0.000000e+00</td>\n",
       "      <td>0.000000e+00</td>\n",
       "      <td>0.000000e+00</td>\n",
       "    </tr>\n",
       "    <tr>\n",
       "      <th>25%</th>\n",
       "      <td>4.024500e+04</td>\n",
       "      <td>3.000000e+00</td>\n",
       "      <td>1.000000e+00</td>\n",
       "      <td>1.300000e+01</td>\n",
       "      <td>1.400000e+02</td>\n",
       "      <td>0.000000e+00</td>\n",
       "    </tr>\n",
       "    <tr>\n",
       "      <th>50%</th>\n",
       "      <td>7.962200e+04</td>\n",
       "      <td>1.200000e+01</td>\n",
       "      <td>1.000000e+00</td>\n",
       "      <td>1.800000e+01</td>\n",
       "      <td>2.580000e+02</td>\n",
       "      <td>0.000000e+00</td>\n",
       "    </tr>\n",
       "    <tr>\n",
       "      <th>75%</th>\n",
       "      <td>1.182470e+05</td>\n",
       "      <td>1.500000e+01</td>\n",
       "      <td>1.000000e+00</td>\n",
       "      <td>1.900000e+01</td>\n",
       "      <td>3.790000e+02</td>\n",
       "      <td>0.000000e+00</td>\n",
       "    </tr>\n",
       "    <tr>\n",
       "      <th>max</th>\n",
       "      <td>3.647780e+05</td>\n",
       "      <td>7.680000e+02</td>\n",
       "      <td>4.227000e+03</td>\n",
       "      <td>9.560000e+02</td>\n",
       "      <td>5.000000e+02</td>\n",
       "      <td>1.000000e+00</td>\n",
       "    </tr>\n",
       "  </tbody>\n",
       "</table>\n",
       "</div>"
      ],
      "text/plain": [
       "                 ip           app        device            os       channel  \\\n",
       "count  1.849039e+08  1.849039e+08  1.849039e+08  1.849039e+08  1.849039e+08   \n",
       "mean   9.087604e+04  1.201131e+01  2.172325e+01  2.267702e+01  2.685789e+02   \n",
       "std    6.952789e+04  1.480521e+01  2.593326e+02  5.525282e+01  1.295882e+02   \n",
       "min    1.000000e+00  0.000000e+00  0.000000e+00  0.000000e+00  0.000000e+00   \n",
       "25%    4.024500e+04  3.000000e+00  1.000000e+00  1.300000e+01  1.400000e+02   \n",
       "50%    7.962200e+04  1.200000e+01  1.000000e+00  1.800000e+01  2.580000e+02   \n",
       "75%    1.182470e+05  1.500000e+01  1.000000e+00  1.900000e+01  3.790000e+02   \n",
       "max    3.647780e+05  7.680000e+02  4.227000e+03  9.560000e+02  5.000000e+02   \n",
       "\n",
       "       is_attributed  \n",
       "count   1.849039e+08  \n",
       "mean    2.470721e-03  \n",
       "std     4.964491e-02  \n",
       "min     0.000000e+00  \n",
       "25%     0.000000e+00  \n",
       "50%     0.000000e+00  \n",
       "75%     0.000000e+00  \n",
       "max     1.000000e+00  "
      ]
     },
     "execution_count": 4,
     "metadata": {},
     "output_type": "execute_result"
    }
   ],
   "source": [
    "train_df.describe()"
   ]
  },
  {
   "cell_type": "code",
   "execution_count": 5,
   "metadata": {},
   "outputs": [
    {
     "data": {
      "text/html": [
       "<div>\n",
       "<style scoped>\n",
       "    .dataframe tbody tr th:only-of-type {\n",
       "        vertical-align: middle;\n",
       "    }\n",
       "\n",
       "    .dataframe tbody tr th {\n",
       "        vertical-align: top;\n",
       "    }\n",
       "\n",
       "    .dataframe thead th {\n",
       "        text-align: right;\n",
       "    }\n",
       "</style>\n",
       "<table border=\"1\" class=\"dataframe\">\n",
       "  <thead>\n",
       "    <tr style=\"text-align: right;\">\n",
       "      <th></th>\n",
       "      <th>click_id</th>\n",
       "      <th>ip</th>\n",
       "      <th>app</th>\n",
       "      <th>device</th>\n",
       "      <th>os</th>\n",
       "      <th>channel</th>\n",
       "      <th>click_time</th>\n",
       "    </tr>\n",
       "  </thead>\n",
       "  <tbody>\n",
       "    <tr>\n",
       "      <th>0</th>\n",
       "      <td>0</td>\n",
       "      <td>5744</td>\n",
       "      <td>9</td>\n",
       "      <td>1</td>\n",
       "      <td>3</td>\n",
       "      <td>107</td>\n",
       "      <td>2017-11-10 04:00:00</td>\n",
       "    </tr>\n",
       "    <tr>\n",
       "      <th>284</th>\n",
       "      <td>285</td>\n",
       "      <td>115292</td>\n",
       "      <td>12</td>\n",
       "      <td>1</td>\n",
       "      <td>22</td>\n",
       "      <td>424</td>\n",
       "      <td>2017-11-10 04:00:00</td>\n",
       "    </tr>\n",
       "    <tr>\n",
       "      <th>283</th>\n",
       "      <td>283</td>\n",
       "      <td>39090</td>\n",
       "      <td>9</td>\n",
       "      <td>1</td>\n",
       "      <td>23</td>\n",
       "      <td>127</td>\n",
       "      <td>2017-11-10 04:00:00</td>\n",
       "    </tr>\n",
       "    <tr>\n",
       "      <th>282</th>\n",
       "      <td>281</td>\n",
       "      <td>72175</td>\n",
       "      <td>9</td>\n",
       "      <td>1</td>\n",
       "      <td>19</td>\n",
       "      <td>127</td>\n",
       "      <td>2017-11-10 04:00:00</td>\n",
       "    </tr>\n",
       "    <tr>\n",
       "      <th>281</th>\n",
       "      <td>280</td>\n",
       "      <td>125580</td>\n",
       "      <td>3</td>\n",
       "      <td>1</td>\n",
       "      <td>19</td>\n",
       "      <td>137</td>\n",
       "      <td>2017-11-10 04:00:00</td>\n",
       "    </tr>\n",
       "    <tr>\n",
       "      <th>...</th>\n",
       "      <td>...</td>\n",
       "      <td>...</td>\n",
       "      <td>...</td>\n",
       "      <td>...</td>\n",
       "      <td>...</td>\n",
       "      <td>...</td>\n",
       "      <td>...</td>\n",
       "    </tr>\n",
       "    <tr>\n",
       "      <th>18790128</th>\n",
       "      <td>18790128</td>\n",
       "      <td>84816</td>\n",
       "      <td>1</td>\n",
       "      <td>2</td>\n",
       "      <td>13</td>\n",
       "      <td>134</td>\n",
       "      <td>2017-11-10 15:00:00</td>\n",
       "    </tr>\n",
       "    <tr>\n",
       "      <th>18790127</th>\n",
       "      <td>18790127</td>\n",
       "      <td>95003</td>\n",
       "      <td>27</td>\n",
       "      <td>1</td>\n",
       "      <td>19</td>\n",
       "      <td>153</td>\n",
       "      <td>2017-11-10 15:00:00</td>\n",
       "    </tr>\n",
       "    <tr>\n",
       "      <th>18790126</th>\n",
       "      <td>18790126</td>\n",
       "      <td>45965</td>\n",
       "      <td>12</td>\n",
       "      <td>1</td>\n",
       "      <td>16</td>\n",
       "      <td>178</td>\n",
       "      <td>2017-11-10 15:00:00</td>\n",
       "    </tr>\n",
       "    <tr>\n",
       "      <th>18790139</th>\n",
       "      <td>18790139</td>\n",
       "      <td>14598</td>\n",
       "      <td>12</td>\n",
       "      <td>1</td>\n",
       "      <td>23</td>\n",
       "      <td>259</td>\n",
       "      <td>2017-11-10 15:00:00</td>\n",
       "    </tr>\n",
       "    <tr>\n",
       "      <th>18790468</th>\n",
       "      <td>18790468</td>\n",
       "      <td>73516</td>\n",
       "      <td>12</td>\n",
       "      <td>2</td>\n",
       "      <td>27</td>\n",
       "      <td>265</td>\n",
       "      <td>2017-11-10 15:00:00</td>\n",
       "    </tr>\n",
       "  </tbody>\n",
       "</table>\n",
       "<p>18790469 rows × 7 columns</p>\n",
       "</div>"
      ],
      "text/plain": [
       "          click_id      ip  app  device  os  channel           click_time\n",
       "0                0    5744    9       1   3      107  2017-11-10 04:00:00\n",
       "284            285  115292   12       1  22      424  2017-11-10 04:00:00\n",
       "283            283   39090    9       1  23      127  2017-11-10 04:00:00\n",
       "282            281   72175    9       1  19      127  2017-11-10 04:00:00\n",
       "281            280  125580    3       1  19      137  2017-11-10 04:00:00\n",
       "...            ...     ...  ...     ...  ..      ...                  ...\n",
       "18790128  18790128   84816    1       2  13      134  2017-11-10 15:00:00\n",
       "18790127  18790127   95003   27       1  19      153  2017-11-10 15:00:00\n",
       "18790126  18790126   45965   12       1  16      178  2017-11-10 15:00:00\n",
       "18790139  18790139   14598   12       1  23      259  2017-11-10 15:00:00\n",
       "18790468  18790468   73516   12       2  27      265  2017-11-10 15:00:00\n",
       "\n",
       "[18790469 rows x 7 columns]"
      ]
     },
     "execution_count": 5,
     "metadata": {},
     "output_type": "execute_result"
    }
   ],
   "source": [
    "test_df = pd.read_csv('../data/test.csv').sort_values('click_time')\n",
    "test_df"
   ]
  },
  {
   "cell_type": "code",
   "execution_count": 6,
   "metadata": {},
   "outputs": [
    {
     "data": {
      "text/html": [
       "<div>\n",
       "<style scoped>\n",
       "    .dataframe tbody tr th:only-of-type {\n",
       "        vertical-align: middle;\n",
       "    }\n",
       "\n",
       "    .dataframe tbody tr th {\n",
       "        vertical-align: top;\n",
       "    }\n",
       "\n",
       "    .dataframe thead th {\n",
       "        text-align: right;\n",
       "    }\n",
       "</style>\n",
       "<table border=\"1\" class=\"dataframe\">\n",
       "  <thead>\n",
       "    <tr style=\"text-align: right;\">\n",
       "      <th></th>\n",
       "      <th>click_id</th>\n",
       "      <th>ip</th>\n",
       "      <th>app</th>\n",
       "      <th>device</th>\n",
       "      <th>os</th>\n",
       "      <th>channel</th>\n",
       "    </tr>\n",
       "  </thead>\n",
       "  <tbody>\n",
       "    <tr>\n",
       "      <th>count</th>\n",
       "      <td>1.879047e+07</td>\n",
       "      <td>1.879047e+07</td>\n",
       "      <td>1.879047e+07</td>\n",
       "      <td>1.879047e+07</td>\n",
       "      <td>1.879047e+07</td>\n",
       "      <td>1.879047e+07</td>\n",
       "    </tr>\n",
       "    <tr>\n",
       "      <th>mean</th>\n",
       "      <td>9.395234e+06</td>\n",
       "      <td>6.306921e+04</td>\n",
       "      <td>1.221480e+01</td>\n",
       "      <td>1.730513e+00</td>\n",
       "      <td>1.873312e+01</td>\n",
       "      <td>2.648059e+02</td>\n",
       "    </tr>\n",
       "    <tr>\n",
       "      <th>std</th>\n",
       "      <td>5.424341e+06</td>\n",
       "      <td>3.688597e+04</td>\n",
       "      <td>1.164924e+01</td>\n",
       "      <td>2.597038e+01</td>\n",
       "      <td>1.135059e+01</td>\n",
       "      <td>1.355254e+02</td>\n",
       "    </tr>\n",
       "    <tr>\n",
       "      <th>min</th>\n",
       "      <td>0.000000e+00</td>\n",
       "      <td>0.000000e+00</td>\n",
       "      <td>0.000000e+00</td>\n",
       "      <td>0.000000e+00</td>\n",
       "      <td>0.000000e+00</td>\n",
       "      <td>0.000000e+00</td>\n",
       "    </tr>\n",
       "    <tr>\n",
       "      <th>25%</th>\n",
       "      <td>4.697617e+06</td>\n",
       "      <td>3.155800e+04</td>\n",
       "      <td>3.000000e+00</td>\n",
       "      <td>1.000000e+00</td>\n",
       "      <td>1.300000e+01</td>\n",
       "      <td>1.350000e+02</td>\n",
       "    </tr>\n",
       "    <tr>\n",
       "      <th>50%</th>\n",
       "      <td>9.395234e+06</td>\n",
       "      <td>6.393600e+04</td>\n",
       "      <td>1.200000e+01</td>\n",
       "      <td>1.000000e+00</td>\n",
       "      <td>1.800000e+01</td>\n",
       "      <td>2.360000e+02</td>\n",
       "    </tr>\n",
       "    <tr>\n",
       "      <th>75%</th>\n",
       "      <td>1.409285e+07</td>\n",
       "      <td>9.531600e+04</td>\n",
       "      <td>1.800000e+01</td>\n",
       "      <td>1.000000e+00</td>\n",
       "      <td>1.900000e+01</td>\n",
       "      <td>4.010000e+02</td>\n",
       "    </tr>\n",
       "    <tr>\n",
       "      <th>max</th>\n",
       "      <td>1.879047e+07</td>\n",
       "      <td>1.264130e+05</td>\n",
       "      <td>5.210000e+02</td>\n",
       "      <td>3.031000e+03</td>\n",
       "      <td>6.040000e+02</td>\n",
       "      <td>4.980000e+02</td>\n",
       "    </tr>\n",
       "  </tbody>\n",
       "</table>\n",
       "</div>"
      ],
      "text/plain": [
       "           click_id            ip           app        device            os  \\\n",
       "count  1.879047e+07  1.879047e+07  1.879047e+07  1.879047e+07  1.879047e+07   \n",
       "mean   9.395234e+06  6.306921e+04  1.221480e+01  1.730513e+00  1.873312e+01   \n",
       "std    5.424341e+06  3.688597e+04  1.164924e+01  2.597038e+01  1.135059e+01   \n",
       "min    0.000000e+00  0.000000e+00  0.000000e+00  0.000000e+00  0.000000e+00   \n",
       "25%    4.697617e+06  3.155800e+04  3.000000e+00  1.000000e+00  1.300000e+01   \n",
       "50%    9.395234e+06  6.393600e+04  1.200000e+01  1.000000e+00  1.800000e+01   \n",
       "75%    1.409285e+07  9.531600e+04  1.800000e+01  1.000000e+00  1.900000e+01   \n",
       "max    1.879047e+07  1.264130e+05  5.210000e+02  3.031000e+03  6.040000e+02   \n",
       "\n",
       "            channel  \n",
       "count  1.879047e+07  \n",
       "mean   2.648059e+02  \n",
       "std    1.355254e+02  \n",
       "min    0.000000e+00  \n",
       "25%    1.350000e+02  \n",
       "50%    2.360000e+02  \n",
       "75%    4.010000e+02  \n",
       "max    4.980000e+02  "
      ]
     },
     "execution_count": 6,
     "metadata": {},
     "output_type": "execute_result"
    }
   ],
   "source": [
    "test_df.describe()"
   ]
  },
  {
   "cell_type": "markdown",
   "metadata": {},
   "source": [
    "### Load data correctly to reduce memory footprint"
   ]
  },
  {
   "cell_type": "code",
   "execution_count": 2,
   "metadata": {},
   "outputs": [
    {
     "name": "stdout",
     "output_type": "stream",
     "text": [
      "<class 'pandas.core.frame.DataFrame'>\n",
      "Int64Index: 184903890 entries, 0 to 184903889\n",
      "Data columns (total 7 columns):\n",
      " #   Column         Dtype         \n",
      "---  ------         -----         \n",
      " 0   ip             uint32        \n",
      " 1   app            uint16        \n",
      " 2   device         uint16        \n",
      " 3   os             uint16        \n",
      " 4   channel        uint16        \n",
      " 5   click_time     datetime64[ns]\n",
      " 6   is_attributed  uint8         \n",
      "dtypes: datetime64[ns](1), uint16(4), uint32(1), uint8(1)\n",
      "memory usage: 5.0 GB\n"
     ]
    }
   ],
   "source": [
    "data_types = {\n",
    "        'ip'            : 'uint32',\n",
    "        'app'           : 'uint16',\n",
    "        'device'        : 'uint16',\n",
    "        'os'            : 'uint16',\n",
    "        'channel'       : 'uint16',\n",
    "        'is_attributed' : 'uint8',\n",
    "        'click_id'      : 'uint32'\n",
    "        }\n",
    "train_df = pd.read_csv('../data/train.csv', dtype=data_types, parse_dates=['click_time']).drop('attributed_time', axis=1).sort_values('click_time')\n",
    "train_df.info()"
   ]
  },
  {
   "cell_type": "code",
   "execution_count": 3,
   "metadata": {},
   "outputs": [
    {
     "name": "stdout",
     "output_type": "stream",
     "text": [
      "<class 'pandas.core.frame.DataFrame'>\n",
      "Int64Index: 18790469 entries, 0 to 18790468\n",
      "Data columns (total 7 columns):\n",
      " #   Column      Dtype         \n",
      "---  ------      -----         \n",
      " 0   click_id    uint32        \n",
      " 1   ip          uint32        \n",
      " 2   app         uint16        \n",
      " 3   device      uint16        \n",
      " 4   os          uint16        \n",
      " 5   channel     uint16        \n",
      " 6   click_time  datetime64[ns]\n",
      "dtypes: datetime64[ns](1), uint16(4), uint32(2)\n",
      "memory usage: 573.4 MB\n"
     ]
    }
   ],
   "source": [
    "test_df = pd.read_csv('../data/test.csv', dtype=data_types, parse_dates=['click_time']).sort_values('click_time')\n",
    "test_df.info()"
   ]
  },
  {
   "cell_type": "code",
   "execution_count": 4,
   "metadata": {},
   "outputs": [
    {
     "data": {
      "text/plain": [
       "0.002470721410998979"
      ]
     },
     "execution_count": 4,
     "metadata": {},
     "output_type": "execute_result"
    }
   ],
   "source": [
    "train_df.is_attributed.mean() # highly unbalanced classes"
   ]
  },
  {
   "cell_type": "markdown",
   "metadata": {},
   "source": [
    "## Baseline - CatBoost w/o feature engineering"
   ]
  },
  {
   "cell_type": "code",
   "execution_count": 5,
   "metadata": {},
   "outputs": [],
   "source": [
    "for df in [train_df, test_df]:\n",
    "    df['hour'] = df.click_time.dt.hour.astype('uint8')\n",
    "    df['day'] = df.click_time.dt.day.astype('uint8')\n",
    "    df['hour_of_month'] = (df.hour + df.day*24).astype('uint16')\n",
    "cat_features = ['ip', 'app', 'device', 'os', 'channel', 'hour'] # All features in our dataset are categorical\n",
    "num_features = []\n",
    "target = 'is_attributed'"
   ]
  },
  {
   "cell_type": "code",
   "execution_count": 6,
   "metadata": {},
   "outputs": [
    {
     "data": {
      "text/plain": [
       "(122070801, 37168192)"
      ]
     },
     "execution_count": 6,
     "metadata": {},
     "output_type": "execute_result"
    }
   ],
   "source": [
    "# To split our dataset ot train and val we need to simulate ~12h gap between train and test \n",
    "\n",
    "TRAIN_END = '2017-11-08 16:00:00'\n",
    "VAL_START = '2017-11-09 04:00:00'\n",
    "VAL_END = '2017-11-09 15:00:00'\n",
    "train_filter = train_df.click_time < TRAIN_END\n",
    "val_filter = (train_df.click_time > VAL_START) & (train_df.click_time < VAL_END)\n",
    "\n",
    "train_pool = Pool(train_df[train_filter][cat_features+num_features], train_df[train_filter][target], feature_names=cat_features+num_features)\n",
    "val_pool = Pool(train_df[val_filter][cat_features+num_features], train_df[val_filter][target], feature_names=cat_features+num_features)\n",
    "train_filter.sum(), val_filter.sum()"
   ]
  },
  {
   "cell_type": "markdown",
   "metadata": {},
   "source": [
    "### Model Training"
   ]
  },
  {
   "cell_type": "code",
   "execution_count": 7,
   "metadata": {},
   "outputs": [
    {
     "name": "stdout",
     "output_type": "stream",
     "text": [
      "0:\tlearn: 0.9192127\ttest: 0.9153981\tbest: 0.9153981 (0)\ttotal: 813ms\tremaining: 13m 32s\n",
      "100:\tlearn: 0.9593359\ttest: 0.9525568\tbest: 0.9525568 (100)\ttotal: 37.8s\tremaining: 5m 36s\n",
      "200:\tlearn: 0.9635992\ttest: 0.9562781\tbest: 0.9562781 (200)\ttotal: 1m 14s\tremaining: 4m 55s\n",
      "300:\tlearn: 0.9657634\ttest: 0.9585456\tbest: 0.9585456 (300)\ttotal: 1m 51s\tremaining: 4m 18s\n",
      "400:\tlearn: 0.9671679\ttest: 0.9600140\tbest: 0.9600140 (400)\ttotal: 2m 28s\tremaining: 3m 41s\n",
      "500:\tlearn: 0.9680920\ttest: 0.9610261\tbest: 0.9610261 (500)\ttotal: 3m 5s\tremaining: 3m 4s\n",
      "600:\tlearn: 0.9688171\ttest: 0.9617832\tbest: 0.9617832 (600)\ttotal: 3m 42s\tremaining: 2m 27s\n",
      "700:\tlearn: 0.9693716\ttest: 0.9623159\tbest: 0.9623159 (700)\ttotal: 4m 20s\tremaining: 1m 50s\n",
      "800:\tlearn: 0.9698319\ttest: 0.9627826\tbest: 0.9627826 (800)\ttotal: 4m 57s\tremaining: 1m 13s\n",
      "900:\tlearn: 0.9702196\ttest: 0.9631729\tbest: 0.9631729 (900)\ttotal: 5m 34s\tremaining: 36.8s\n",
      "999:\tlearn: 0.9705643\ttest: 0.9635219\tbest: 0.9635219 (999)\ttotal: 6m 12s\tremaining: 0us\n",
      "bestTest = 0.9635219276\n",
      "bestIteration = 999\n"
     ]
    },
    {
     "data": {
      "text/plain": [
       "<catboost.core.CatBoostClassifier at 0x7fb6ec319d10>"
      ]
     },
     "execution_count": 7,
     "metadata": {},
     "output_type": "execute_result"
    }
   ],
   "source": [
    "model = CatBoostClassifier(iterations=1000, depth=6, loss_function='Logloss', learning_rate=0.03,\n",
    "                           eval_metric='AUC', random_seed=42, verbose=100, metric_period=10, task_type='GPU', scale_pos_weight=1./train_df.is_attributed.mean())\n",
    "model.fit(train_pool, eval_set=val_pool, use_best_model=True)"
   ]
  },
  {
   "cell_type": "markdown",
   "metadata": {},
   "source": [
    "### Feature importance"
   ]
  },
  {
   "cell_type": "code",
   "execution_count": 8,
   "metadata": {},
   "outputs": [
    {
     "data": {
      "text/plain": [
       "<matplotlib.axes._subplots.AxesSubplot at 0x7fb66a30b150>"
      ]
     },
     "execution_count": 8,
     "metadata": {},
     "output_type": "execute_result"
    },
    {
     "data": {
      "image/png": "[encoded data removed]",
      "text/plain": [
       "<Figure size 432x288 with 1 Axes>"
      ]
     },
     "metadata": {
      "needs_background": "light"
     },
     "output_type": "display_data"
    }
   ],
   "source": [
    "imp = pd.DataFrame(list(zip(model.get_feature_importance(),np.asarray(cat_features+num_features)))).set_index(1)\n",
    "imp.sort_values(0, ascending=True).plot.barh()"
   ]
  },
  {
   "cell_type": "code",
   "execution_count": null,
   "metadata": {},
   "outputs": [],
   "source": []
  },
  {
   "cell_type": "markdown",
   "metadata": {},
   "source": [
    "## Feature Engineering"
   ]
  },
  {
   "cell_type": "markdown",
   "metadata": {},
   "source": [
    "### Let's calculate count of clicks for each feature and various time periods"
   ]
  },
  {
   "cell_type": "code",
   "execution_count": 9,
   "metadata": {},
   "outputs": [
    {
     "name": "stderr",
     "output_type": "stream",
     "text": [
      "100%|██████████| 5/5 [03:18<00:00, 39.60s/it]\n"
     ]
    }
   ],
   "source": [
    "count_features = []\n",
    "for f1 in tqdm(['ip', 'app', 'device', 'os', 'channel']):\n",
    "    for f2 in ['hour']:\n",
    "        feature_name = f1 + '_' + f2 + '_count'\n",
    "        count_features.append(feature_name)\n",
    "        x = train_df.append(test_df).groupby([f1, f2]).click_time.count().astype('int32').reset_index().rename(columns={'click_time' : feature_name})\n",
    "        train_df = train_df.merge(x, on=[f1, f2])\n",
    "        test_df = test_df.merge(x, on=[f1, f2])\n",
    "train_df.sort_values('click_time', inplace=True)\n",
    "test_df.sort_values('click_time', inplace=True)"
   ]
  },
  {
   "cell_type": "code",
   "execution_count": 10,
   "metadata": {},
   "outputs": [],
   "source": [
    "num_features = count_features\n",
    "cat_features = ['ip', 'app', 'device', 'os', 'channel', 'hour']"
   ]
  },
  {
   "cell_type": "code",
   "execution_count": 11,
   "metadata": {},
   "outputs": [],
   "source": [
    "train_filter = train_df.click_time < TRAIN_END\n",
    "val_filter = (train_df.click_time > VAL_START) & (train_df.click_time < VAL_END)\n",
    "\n",
    "train_pool = Pool(train_df[train_filter][cat_features+num_features], train_df[train_filter][target], feature_names=cat_features+num_features)\n",
    "val_pool = Pool(train_df[val_filter][cat_features+num_features], train_df[val_filter][target], feature_names=cat_features+num_features)"
   ]
  },
  {
   "cell_type": "code",
   "execution_count": 12,
   "metadata": {},
   "outputs": [
    {
     "name": "stdout",
     "output_type": "stream",
     "text": [
      "0:\tlearn: 0.9349082\ttest: 0.9234484\tbest: 0.9234484 (0)\ttotal: 788ms\tremaining: 13m 6s\n",
      "100:\tlearn: 0.9674943\ttest: 0.9600453\tbest: 0.9600453 (100)\ttotal: 37.2s\tremaining: 5m 31s\n",
      "200:\tlearn: 0.9704030\ttest: 0.9630800\tbest: 0.9630800 (200)\ttotal: 1m 13s\tremaining: 4m 53s\n",
      "300:\tlearn: 0.9720247\ttest: 0.9647066\tbest: 0.9647066 (300)\ttotal: 1m 50s\tremaining: 4m 17s\n",
      "400:\tlearn: 0.9729848\ttest: 0.9656511\tbest: 0.9656511 (400)\ttotal: 2m 27s\tremaining: 3m 40s\n",
      "500:\tlearn: 0.9736831\ttest: 0.9663608\tbest: 0.9663608 (500)\ttotal: 3m 4s\tremaining: 3m 4s\n",
      "600:\tlearn: 0.9741905\ttest: 0.9668719\tbest: 0.9668719 (600)\ttotal: 3m 42s\tremaining: 2m 27s\n",
      "700:\tlearn: 0.9746215\ttest: 0.9672976\tbest: 0.9672976 (700)\ttotal: 4m 19s\tremaining: 1m 50s\n",
      "800:\tlearn: 0.9749437\ttest: 0.9675857\tbest: 0.9675857 (800)\ttotal: 4m 56s\tremaining: 1m 13s\n",
      "900:\tlearn: 0.9752491\ttest: 0.9678605\tbest: 0.9678605 (900)\ttotal: 5m 33s\tremaining: 36.7s\n",
      "999:\tlearn: 0.9754891\ttest: 0.9680543\tbest: 0.9680543 (999)\ttotal: 6m 11s\tremaining: 0us\n",
      "bestTest = 0.9680543244\n",
      "bestIteration = 999\n"
     ]
    },
    {
     "data": {
      "text/plain": [
       "<catboost.core.CatBoostClassifier at 0x7fb66f1743d0>"
      ]
     },
     "execution_count": 12,
     "metadata": {},
     "output_type": "execute_result"
    }
   ],
   "source": [
    "model = CatBoostClassifier(iterations=1000, depth=6, loss_function='Logloss', learning_rate=0.03,\n",
    "                           eval_metric='AUC', random_seed=42, verbose=100, metric_period=10, task_type='GPU', scale_pos_weight=1./train_df.is_attributed.mean())\n",
    "model.fit(train_pool, eval_set=val_pool, use_best_model=True)"
   ]
  },
  {
   "cell_type": "code",
   "execution_count": null,
   "metadata": {},
   "outputs": [],
   "source": [
    "999:\tlearn: 0.9714479\ttest: 0.9644465\tbest: 0.9644465 (999)\ttotal: 5m 55s\tremaining: 0us"
   ]
  },
  {
   "cell_type": "code",
   "execution_count": 13,
   "metadata": {},
   "outputs": [
    {
     "data": {
      "text/plain": [
       "<matplotlib.axes._subplots.AxesSubplot at 0x7fb66a385450>"
      ]
     },
     "execution_count": 13,
     "metadata": {},
     "output_type": "execute_result"
    },
    {
     "data": {
      "image/png": "[encoded data removed]",
      "text/plain": [
       "<Figure size 432x288 with 1 Axes>"
      ]
     },
     "metadata": {
      "needs_background": "light"
     },
     "output_type": "display_data"
    }
   ],
   "source": [
    "imp = pd.DataFrame(list(zip(model.get_feature_importance(),np.asarray(cat_features+num_features)))).set_index(1)\n",
    "imp.sort_values(0, ascending=True).plot.barh()"
   ]
  },
  {
   "cell_type": "code",
   "execution_count": null,
   "metadata": {},
   "outputs": [],
   "source": []
  },
  {
   "cell_type": "markdown",
   "metadata": {},
   "source": [
    "## Prediction for test dataset"
   ]
  },
  {
   "cell_type": "code",
   "execution_count": 14,
   "metadata": {},
   "outputs": [
    {
     "name": "stderr",
     "output_type": "stream",
     "text": [
      "Warning: Eval metric Logloss needs Target data, but test dataset does not have it so it won't be calculated\n"
     ]
    },
    {
     "name": "stdout",
     "output_type": "stream",
     "text": [
      "0:\tlearn: 0.6568451\ttotal: 459ms\tremaining: 7m 38s\n",
      "100:\tlearn: 0.2234272\ttotal: 47s\tremaining: 6m 58s\n",
      "200:\tlearn: 0.2094389\ttotal: 1m 33s\tremaining: 6m 10s\n",
      "300:\tlearn: 0.2032125\ttotal: 2m 19s\tremaining: 5m 22s\n",
      "400:\tlearn: 0.1995843\ttotal: 3m 4s\tremaining: 4m 36s\n",
      "500:\tlearn: 0.1971306\ttotal: 3m 50s\tremaining: 3m 49s\n",
      "600:\tlearn: 0.1953236\ttotal: 4m 37s\tremaining: 3m 3s\n",
      "700:\tlearn: 0.1939039\ttotal: 5m 23s\tremaining: 2m 17s\n",
      "800:\tlearn: 0.1926985\ttotal: 6m 9s\tremaining: 1m 31s\n",
      "900:\tlearn: 0.1916565\ttotal: 6m 55s\tremaining: 45.7s\n",
      "999:\tlearn: 0.1908689\ttotal: 7m 41s\tremaining: 0us\n"
     ]
    },
    {
     "data": {
      "text/plain": [
       "<catboost.core.CatBoostClassifier at 0x7fb66aa7f9d0>"
      ]
     },
     "execution_count": 14,
     "metadata": {},
     "output_type": "execute_result"
    }
   ],
   "source": [
    "# Train model on full train data\n",
    "# Hint! Use test data as eval_set to help catboost to calculate some count statistics for categorical fetures\n",
    "\n",
    "train_pool = Pool(train_df[cat_features+num_features], train_df[target], feature_names=cat_features+num_features)\n",
    "test_pool = Pool(test_df[cat_features+num_features], feature_names=cat_features+num_features)\n",
    "model = CatBoostClassifier(iterations=1000, depth=6, loss_function='Logloss', learning_rate=0.03,\n",
    "                           random_seed=42, verbose=100, metric_period=10, task_type='GPU', scale_pos_weight=1./train_df.is_attributed.mean())\n",
    "model.fit(train_pool, eval_set=test_pool)"
   ]
  },
  {
   "cell_type": "code",
   "execution_count": 15,
   "metadata": {},
   "outputs": [],
   "source": [
    "test_df['is_attributed'] = model.predict_proba(test_pool).T[1]"
   ]
  },
  {
   "cell_type": "code",
   "execution_count": 16,
   "metadata": {},
   "outputs": [],
   "source": [
    "test_df[['click_id', 'is_attributed']].to_csv('../out/submission.csv.gz', index=False)\n",
    "# 0.96545 on leaderboard"
   ]
  },
  {
   "cell_type": "code",
   "execution_count": null,
   "metadata": {},
   "outputs": [],
   "source": []
  }
 ],
 "metadata": {
  "kernelspec": {
   "display_name": "Python 3",
   "language": "python",
   "name": "python3"
  },
  "language_info": {
   "codemirror_mode": {
    "name": "ipython",
    "version": 3
   },
   "file_extension": ".py",
   "mimetype": "text/x-python",
   "name": "python",
   "nbconvert_exporter": "python",
   "pygments_lexer": "ipython3",
   "version": "3.7.4"
  }
 },
 "nbformat": 4,
 "nbformat_minor": 4
}
